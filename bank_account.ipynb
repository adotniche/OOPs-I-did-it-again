{
  "nbformat": 4,
  "nbformat_minor": 0,
  "metadata": {
    "colab": {
      "name": "bank_account.ipynb",
      "provenance": [],
      "collapsed_sections": [],
      "authorship_tag": "ABX9TyPVIcrHJPhh1MdqNCl2CR8O"
    },
    "kernelspec": {
      "name": "python3",
      "display_name": "Python 3"
    },
    "language_info": {
      "name": "python"
    }
  },
  "cells": [
    {
      "cell_type": "code",
      "execution_count": 1,
      "metadata": {
        "id": "I5FXTBLhM45H"
      },
      "outputs": [],
      "source": [
        "class customer:\n",
        "  def __init__(self, name, acc_no, acc_type, balance):\n",
        "    self.name = name\n",
        "    self.acc_no = acc_no\n",
        "    self.acc_type = acc_type\n",
        "    self.balance = balance\n",
        "\n",
        "  def data_ret(self):\n",
        "    print(\"Account holder name: {}\".format(self.name))\n",
        "    print(\"Account number: {}\".format(self.acc_no))\n",
        "    print(\"Account type: {}\".format(self.acc_type))\n",
        "    print(\"Balance: {}\".format(self.balance))\n",
        "    \n",
        "  def deposit(self):\n",
        "    passw = input(\"Enter the password for Account number {}\".format(self.acc_no))\n",
        "    if passw == int(self.acc_no / 67):\n",
        "      print(\"Password correct.\")\n",
        "      deposit = int(input(\"Enter deposit amount\"))\n",
        "      self.balance += deposit\n",
        "      print(\"Deposit authorized.\")\n",
        "      self.data_ret()\n",
        "    else:\n",
        "      print(\"Action not authorized\")\n",
        "\n",
        "  def withdraw(self):\n",
        "    passw = input(\"Enter the password for Account number {}\".format(self.acc_no))\n",
        "    if passw == int(self.acc_no / 67):\n",
        "      print(\"Password correct.\")\n",
        "      withdraw = int(input(\"Enter withdrawl amount\"))\n",
        "      if withdraw < self.balance:\n",
        "        self.balance -= withdraw\n",
        "        print(\"withdrawl authorized.\")\n",
        "        self.data_ret()\n",
        "      else:\n",
        "        print(\"Not sufficient Funds\")\n",
        "    else:\n",
        "      print(\"Action not authorized\")\n",
        "\n",
        "      "
      ]
    }
  ]
}